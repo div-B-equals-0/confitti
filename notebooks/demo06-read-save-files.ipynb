{
 "cells": [
  {
   "cell_type": "code",
   "execution_count": 1,
   "id": "eed5cff6-aab5-4cbe-9789-13216d1129ea",
   "metadata": {
    "execution": {
     "iopub.execute_input": "2024-11-03T20:34:10.145732Z",
     "iopub.status.busy": "2024-11-03T20:34:10.145146Z",
     "iopub.status.idle": "2024-11-03T20:34:12.476254Z",
     "shell.execute_reply": "2024-11-03T20:34:12.475386Z"
    }
   },
   "outputs": [],
   "source": [
    "from confitti import ConicFitResult\n",
    "from matplotlib import pyplot as plt\n",
    "import seaborn as sns\n",
    "import numpy as np"
   ]
  },
  {
   "cell_type": "code",
   "execution_count": 2,
   "id": "324985f8-e058-45b1-8859-dd0baac90342",
   "metadata": {
    "execution": {
     "iopub.execute_input": "2024-11-03T20:34:12.479287Z",
     "iopub.status.busy": "2024-11-03T20:34:12.478963Z",
     "iopub.status.idle": "2024-11-03T20:34:12.482547Z",
     "shell.execute_reply": "2024-11-03T20:34:12.481719Z"
    }
   },
   "outputs": [],
   "source": [
    "sns.set_context(\"notebook\", font_scale=1.2)"
   ]
  },
  {
   "cell_type": "markdown",
   "id": "26649a1b-949a-4588-9c2e-2b2fdccf2ca2",
   "metadata": {},
   "source": [
    "## Read in results from prior notebooks\n",
    "\n",
    "We read the conic-section fits to proplyd arcs from YAML files, which we saved in the previous notebooks: demo03 and demo04. This requires that those notebooks must have been run first. "
   ]
  },
  {
   "cell_type": "code",
   "execution_count": 3,
   "id": "99468292-d4b3-45dc-8955-2717b6209ce6",
   "metadata": {
    "execution": {
     "iopub.execute_input": "2024-11-03T20:34:12.485399Z",
     "iopub.status.busy": "2024-11-03T20:34:12.485155Z",
     "iopub.status.idle": "2024-11-03T20:34:12.492937Z",
     "shell.execute_reply": "2024-11-03T20:34:12.492013Z"
    }
   },
   "outputs": [
    {
     "name": "stderr",
     "output_type": "stream",
     "text": [
      "/Users/will/Dropbox/confitti/src/confitti/confitti.py:143: RuntimeWarning: divide by zero encountered in divide\n",
      "  self.r0\n"
     ]
    }
   ],
   "source": [
    "arcfits = {\n",
    "    _id: ConicFitResult.read(f\"demo{_id:02d}-fit-result.yaml\")\n",
    "    for _id in [3, 4]\n",
    "}"
   ]
  },
  {
   "cell_type": "code",
   "execution_count": 4,
   "id": "835115ad-cff2-43c9-ab50-6998339a3ccc",
   "metadata": {
    "execution": {
     "iopub.execute_input": "2024-11-03T20:34:12.496688Z",
     "iopub.status.busy": "2024-11-03T20:34:12.496214Z",
     "iopub.status.idle": "2024-11-03T20:34:12.502787Z",
     "shell.execute_reply": "2024-11-03T20:34:12.501986Z"
    }
   },
   "outputs": [
    {
     "data": {
      "text/plain": [
       "{3: ConicFitResult({'__lnsigma': -0.417897803684002, 'eccentricity': 1.070798193388295, 'r0': 7.638068634128533, 'theta0': 162.545318007371, 'x0': -0.19006696010244425, 'y0': -1.4903420349819423}),\n",
       " 4: ConicFitResult({'eccentricity': 1.0, 'r0': 17.288407072422736, 'theta0': 161.254672152365, 'x0': 5.761920739590889, 'y0': -1.2495512045284374})}"
      ]
     },
     "execution_count": 4,
     "metadata": {},
     "output_type": "execute_result"
    }
   ],
   "source": [
    "arcfits"
   ]
  },
  {
   "cell_type": "markdown",
   "id": "e62820ee-b337-48a2-a00a-276ccebabac9",
   "metadata": {},
   "source": [
    "## Structure of a ConicFitResult object\n",
    "\n",
    "The objects that we read from the save files are `confitti.ConicFitResult` objects, which currently contain 3 properties. \n",
    "\n",
    "The `.params` property is a dict that holds the best-fit parameters of the conic-section model. For instance, for first proplyd (from demo03):"
   ]
  },
  {
   "cell_type": "code",
   "execution_count": 5,
   "id": "21070e2d-80e9-410a-95c3-5eb72bc4f5fa",
   "metadata": {
    "execution": {
     "iopub.execute_input": "2024-11-03T20:34:12.505889Z",
     "iopub.status.busy": "2024-11-03T20:34:12.505627Z",
     "iopub.status.idle": "2024-11-03T20:34:12.510446Z",
     "shell.execute_reply": "2024-11-03T20:34:12.509600Z"
    }
   },
   "outputs": [
    {
     "data": {
      "text/plain": [
       "{'__lnsigma': -0.417897803684002,\n",
       " 'eccentricity': 1.070798193388295,\n",
       " 'r0': 7.638068634128533,\n",
       " 'theta0': 162.545318007371,\n",
       " 'x0': -0.19006696010244425,\n",
       " 'y0': -1.4903420349819423}"
      ]
     },
     "execution_count": 5,
     "metadata": {},
     "output_type": "execute_result"
    }
   ],
   "source": [
    "arcfits[3].params"
   ]
  },
  {
   "cell_type": "markdown",
   "id": "e4c81d56-4eed-44be-8921-739bd0e4e577",
   "metadata": {},
   "source": [
    "The `.uparams` property is a dict that holds the 1-sigma uncertainties in the parameters of the conic-section model. For instance, for the second proplyd (from demo04):"
   ]
  },
  {
   "cell_type": "code",
   "execution_count": 6,
   "id": "dd3b2ca8-e55a-4b94-b60d-ad6e2fa8d9ad",
   "metadata": {
    "execution": {
     "iopub.execute_input": "2024-11-03T20:34:12.513098Z",
     "iopub.status.busy": "2024-11-03T20:34:12.512845Z",
     "iopub.status.idle": "2024-11-03T20:34:12.516743Z",
     "shell.execute_reply": "2024-11-03T20:34:12.516208Z"
    }
   },
   "outputs": [
    {
     "data": {
      "text/plain": [
       "{'eccentricity': 0.0,\n",
       " 'r0': 0.6792573217152429,\n",
       " 'theta0': 2.7528102487901953,\n",
       " 'x0': 0.8183323226200439,\n",
       " 'y0': 1.6170640857688103}"
      ]
     },
     "execution_count": 6,
     "metadata": {},
     "output_type": "execute_result"
    }
   ],
   "source": [
    "arcfits[4].uparams"
   ]
  },
  {
   "cell_type": "markdown",
   "id": "9b9baa16-df5e-4fc4-abc9-e7f5a1dcdd67",
   "metadata": {},
   "source": [
    "Note that this looks different because I saved the results of the original LM fit, rather than the MCMC exploration (just to check that either will work). Hence, there is no `__lnsigma` parameter, which is the MCMC estimate in the scatter of the data points. Also, this is for the parabola fit, instead of the general conic section, so eccentricity is fixed at 1 and the uncertainty in eccentricity is zero. \n",
    "\n",
    "The `.xy` property is a `confitti.XYconic` object that can be used for plotting the best-fit curve (see next section):"
   ]
  },
  {
   "cell_type": "code",
   "execution_count": 7,
   "id": "f7f785a0-aa92-4536-9238-f24cc2f90855",
   "metadata": {
    "execution": {
     "iopub.execute_input": "2024-11-03T20:34:12.519168Z",
     "iopub.status.busy": "2024-11-03T20:34:12.518943Z",
     "iopub.status.idle": "2024-11-03T20:34:12.522954Z",
     "shell.execute_reply": "2024-11-03T20:34:12.522244Z"
    }
   },
   "outputs": [
    {
     "data": {
      "text/plain": [
       "Conic(x0=-0.19006696010244425, y0=-1.4903420349819423, r0=7.638068634128533, theta0=162.545318007371, eccentricity=1.070798193388295)"
      ]
     },
     "execution_count": 7,
     "metadata": {},
     "output_type": "execute_result"
    }
   ],
   "source": [
    "arcfits[3].xy"
   ]
  },
  {
   "cell_type": "markdown",
   "id": "5a35f7ce-e641-4a30-b7d5-8692da22e8ff",
   "metadata": {},
   "source": [
    "Currently we do not include the original data points or any additional details of the fit, but these could be added if needed. "
   ]
  },
  {
   "cell_type": "markdown",
   "id": "01e0d876-3d71-4b31-8bed-5a6293ca424c",
   "metadata": {},
   "source": [
    "## Plot multiple results on the same figure\n",
    "\n",
    "These proplyds come from different images and their pixel coordinate origins are completely different, so it doesn't really make any sense to plot them together. But we will pretend that it does, just to illustrate the mechanism. \n",
    "\n",
    "First, we define a helper function to plot the +/- 1-sigma uncertainty cones so we can look for intersections. "
   ]
  },
  {
   "cell_type": "code",
   "execution_count": 8,
   "id": "edfc6a90-ded0-4b90-b460-df5c8f562f14",
   "metadata": {
    "execution": {
     "iopub.execute_input": "2024-11-03T20:34:12.525670Z",
     "iopub.status.busy": "2024-11-03T20:34:12.525406Z",
     "iopub.status.idle": "2024-11-03T20:34:12.532624Z",
     "shell.execute_reply": "2024-11-03T20:34:12.531892Z"
    }
   },
   "outputs": [],
   "source": [
    "def plot_theta_range(fitresult, size, ax, color, alpha=0.2):\n",
    "    \"\"\"Plot the cone of uncertainty of the axis orientation of a ConicFitResult\"\"\"\n",
    "    # Find th0 +/- dth0\n",
    "    th1 = fitresult.params[\"theta0\"] - fitresult.uparams[\"theta0\"]\n",
    "    th2 = fitresult.params[\"theta0\"] + fitresult.uparams[\"theta0\"]\n",
    "    # Precalculate trig functions\n",
    "    cth1 = np.cos(np.deg2rad(th1))\n",
    "    cth2 = np.cos(np.deg2rad(th2))\n",
    "    sth1 = np.sin(np.deg2rad(th1))\n",
    "    sth2 = np.sin(np.deg2rad(th2))\n",
    "    # Cartesian coordinates of endpints of the two boundary lines\n",
    "    xx1 = fitresult.params[\"x0\"] - size * cth1, fitresult.params[\"x0\"] + size * cth1\n",
    "    xx2 = fitresult.params[\"x0\"] - size * cth2, fitresult.params[\"x0\"] + size * cth2\n",
    "    yy1 = fitresult.params[\"y0\"] - size * sth1, fitresult.params[\"y0\"] + size * sth1\n",
    "    yy2 = fitresult.params[\"y0\"] - size * sth2, fitresult.params[\"y0\"] + size * sth2\n",
    "    # The easy part is plotting the +/- sigma boundaries\n",
    "    ax.plot(xx1, yy1, color=color, alpha=alpha)\n",
    "    ax.plot(xx2, yy2, color=color, alpha=alpha)\n",
    "    # The hard part is coloring in between them. \n",
    "    # We need to interpolate both boundaries onto a common grid,\n",
    "    # either in x or y, depending on the orientation of the axis. \n",
    "    # And we need to make sure that the second argument to np.interp is in increasing order\n",
    "    # Amazingly, this worked (although, the quasi-vertical case remains untested)\n",
    "    if np.abs(cth1) > np.abs(sth1):\n",
    "        # quasi-horizontal case\n",
    "        if xx1[1] < xx1[0]:\n",
    "            # Reverse order to make sure xx1 is increasing\n",
    "            xx1 = xx1[::-1]\n",
    "            xx2 = xx2[::-1]\n",
    "            yy1 = yy1[::-1]\n",
    "            yy2 = yy2[::-1]\n",
    "        x = np.linspace(*xx1)\n",
    "        y1 = np.interp(x, xx1, yy1)\n",
    "        y2 = np.interp(x, xx2, yy2)\n",
    "        ax.fill_between(x, y1, y2, color=color, alpha=alpha)\n",
    "    else:\n",
    "        # quasi-vertical case\n",
    "        if yy1[1] < yy1[0]:\n",
    "            # Reverse order to make sure yy1 is increasing\n",
    "            xx1 = xx1[::-1]\n",
    "            xx2 = xx2[::-1]\n",
    "            yy1 = yy1[::-1]\n",
    "            yy2 = yy2[::-1]\n",
    "        y = np.linspace(*yy1)\n",
    "        x1 = np.interp(y, yy1, xx1)\n",
    "        x2 = np.interp(y, yy2, xx2)\n",
    "        ax.fill_between_x(y, x1, x2, color=color, alpha=alpha)"
   ]
  },
  {
   "cell_type": "markdown",
   "id": "a10234cf-08a9-4928-854b-b07e28892da4",
   "metadata": {},
   "source": [
    "Then we plot the curves. Note that in this example, there is a slight overlap in the uncertainty cones (which is fictitious because the two propyds are not really in the same place)"
   ]
  },
  {
   "cell_type": "code",
   "execution_count": 9,
   "id": "4e8288ba-406d-4e37-9b3b-9d7786ca6a21",
   "metadata": {
    "execution": {
     "iopub.execute_input": "2024-11-03T20:34:12.535571Z",
     "iopub.status.busy": "2024-11-03T20:34:12.535317Z",
     "iopub.status.idle": "2024-11-03T20:34:12.745574Z",
     "shell.execute_reply": "2024-11-03T20:34:12.744856Z"
    }
   },
   "outputs": [
    {
     "data": {
      "image/png": "[encoded data removed]",
      "text/plain": [
       "<Figure size 640x480 with 1 Axes>"
      ]
     },
     "metadata": {},
     "output_type": "display_data"
    }
   ],
   "source": [
    "fig, ax = plt.subplots()\n",
    "size = 100\n",
    "for label, arc in arcfits.items():\n",
    "    curve, = ax.plot(arc.xy.x_pts, arc.xy.y_pts, label=f\"Proplyd {label}\")\n",
    "    c = curve.get_color()\n",
    "    ax.scatter(arc.xy.x0, arc.xy.y0, marker=\"+\", color=c)\n",
    "    ax.plot([arc.xy.x0, arc.xy.x_mirror], [arc.xy.y0, arc.xy.y_mirror], color=c)\n",
    "    plot_theta_range(arc, size, ax, color=c)\n",
    "ax.legend()\n",
    "ax.set(xlim=[-size, size], ylim=[-size, size])\n",
    "ax.set_aspect(\"equal\")\n",
    "...;"
   ]
  },
  {
   "cell_type": "code",
   "execution_count": null,
   "id": "e903470f-9c7c-4451-a7ea-a34c0b4f35d6",
   "metadata": {},
   "outputs": [],
   "source": []
  }
 ],
 "metadata": {
  "jupytext": {
   "formats": "ipynb,py:light"
  },
  "kernelspec": {
   "display_name": "Python 3 (ipykernel)",
   "language": "python",
   "name": "python3"
  },
  "language_info": {
   "codemirror_mode": {
    "name": "ipython",
    "version": 3
   },
   "file_extension": ".py",
   "mimetype": "text/x-python",
   "name": "python",
   "nbconvert_exporter": "python",
   "pygments_lexer": "ipython3",
   "version": "3.12.1"
  }
 },
 "nbformat": 4,
 "nbformat_minor": 5
}
